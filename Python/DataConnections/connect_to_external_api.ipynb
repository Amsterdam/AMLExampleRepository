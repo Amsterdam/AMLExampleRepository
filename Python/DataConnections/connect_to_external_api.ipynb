{
 "cells": [
  {
   "cell_type": "code",
   "execution_count": null,
   "metadata": {},
   "outputs": [],
   "source": [
    "# Install python package 'requests'\n",
    "!pip install requests"
   ]
  },
  {
   "cell_type": "code",
   "execution_count": null,
   "metadata": {},
   "outputs": [],
   "source": [
    "import requests"
   ]
  },
  {
   "attachments": {},
   "cell_type": "markdown",
   "metadata": {},
   "source": [
    "# Request data from an API"
   ]
  },
  {
   "cell_type": "code",
   "execution_count": null,
   "metadata": {},
   "outputs": [],
   "source": [
    "url = \"https://opendata.cbs.nl/ODataApi/odata/83474NED/Perioden\"\n",
    "r = requests.get(url=url)\n",
    "print(f\"URL requested: {url}\")\n",
    "print(r.json())"
   ]
  },
  {
   "attachments": {},
   "cell_type": "markdown",
   "metadata": {},
   "source": [
    "# Request data from an API using API key"
   ]
  },
  {
   "cell_type": "code",
   "execution_count": null,
   "metadata": {},
   "outputs": [],
   "source": [
    "KNMI_API_KEY = \"xxxxxxxxxxxx\"\n",
    "url = \"https://api.dataplatform.knmi.nl/open-data/v1/datasets/windlidar_nz_wp_platform_1s/versions/1/files\"\n",
    "\n",
    "# Specify the key in the request header\n",
    "r = requests.get(url=url, headers={\"authorization\": KNMI_API_KEY})\n",
    "\n",
    "print(f\"URL requested: {url}\")\n",
    "print(r.json())"
   ]
  },
  {
   "attachments": {},
   "cell_type": "markdown",
   "metadata": {},
   "source": [
    "# Curl to API endpoint"
   ]
  },
  {
   "cell_type": "code",
   "execution_count": null,
   "metadata": {},
   "outputs": [],
   "source": [
    "!curl -v https://map.data.amsterdam.nl"
   ]
  }
 ],
 "metadata": {
  "kernelspec": {
   "display_name": "Python 3.9.1 64-bit ('ExamplesAzureML')",
   "language": "python",
   "name": "python3"
  },
  "language_info": {
   "codemirror_mode": {
    "name": "ipython",
    "version": 3
   },
   "file_extension": ".py",
   "mimetype": "text/x-python",
   "name": "python",
   "nbconvert_exporter": "python",
   "pygments_lexer": "ipython3",
   "version": "3.9.1"
  },
  "orig_nbformat": 4,
  "vscode": {
   "interpreter": {
    "hash": "eb536cdc95e3406f5d9af8d069b42437da091c0cde72e1021a812b025f5aab76"
   }
  }
 },
 "nbformat": 4,
 "nbformat_minor": 2
}
